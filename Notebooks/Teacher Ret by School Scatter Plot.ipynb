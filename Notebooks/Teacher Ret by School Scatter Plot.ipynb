{
 "cells": [
  {
   "cell_type": "code",
   "execution_count": 1,
   "id": "4c92a218",
   "metadata": {},
   "outputs": [],
   "source": [
    "import pandas as pd\n",
    "import numpy as np\n",
    "import seaborn as sns\n",
    "import matplotlib.pyplot as plt\n",
    "%matplotlib inline"
   ]
  },
  {
   "cell_type": "code",
   "execution_count": 2,
   "id": "1788781f",
   "metadata": {},
   "outputs": [],
   "source": [
    "pd.options.display.max_columns = 100"
   ]
  },
  {
   "cell_type": "code",
   "execution_count": 3,
   "id": "8aed9a21",
   "metadata": {},
   "outputs": [
    {
     "data": {
      "text/plain": [
       "['READ ME_Instructions',\n",
       " 'ACT',\n",
       " 'achievement',\n",
       " 'discipline',\n",
       " 'chronic_absenteeism',\n",
       " 'CTE',\n",
       " 'dropout',\n",
       " 'ELPA',\n",
       " 'enrollment',\n",
       " 'finance',\n",
       " 'grad_rate',\n",
       " 'growth',\n",
       " 'growth_subjects',\n",
       " 'indicator_level_grades',\n",
       " 'long_term_ell',\n",
       " 'overall_grades',\n",
       " 'postsec_enrollment',\n",
       " 'ready_grad',\n",
       " 'staffing',\n",
       " 'success_rate',\n",
       " 'teacher_retention',\n",
       " 'district_info',\n",
       " 'school_info']"
      ]
     },
     "execution_count": 3,
     "metadata": {},
     "output_type": "execute_result"
    }
   ],
   "source": [
    "path = '../Data/2018_rc_data.xlsx'\n",
    "xl = pd.ExcelFile(path)\n",
    "sheet_names = xl.sheet_names\n",
    "sheet_names"
   ]
  },
  {
   "cell_type": "code",
   "execution_count": 4,
   "id": "4154619e",
   "metadata": {},
   "outputs": [],
   "source": [
    "for sheetname in sheet_names:\n",
    "    if sheetname != 'READ ME_Instructions':\n",
    "        vars()['df' + sheetname] = pd.read_excel(path, sheet_name= sheetname)"
   ]
  },
  {
   "cell_type": "code",
   "execution_count": 5,
   "id": "bbd4940c",
   "metadata": {},
   "outputs": [],
   "source": [
    "dfteacher_retention['percent_retained'] = dfteacher_retention['percent_retained'].replace('\\*+', np.nan, regex=True)"
   ]
  },
  {
   "cell_type": "code",
   "execution_count": 6,
   "id": "1eecbe0c",
   "metadata": {},
   "outputs": [],
   "source": [
    "dfteacher_retention['percent_retained'] = dfteacher_retention['percent_retained'].astype(float)"
   ]
  },
  {
   "cell_type": "code",
   "execution_count": 8,
   "id": "4a484d2f",
   "metadata": {},
   "outputs": [],
   "source": [
    "dfteacher_retention= dfteacher_retention[['district_name','school_name','percent_retained']]"
   ]
  },
  {
   "cell_type": "code",
   "execution_count": 13,
   "id": "f09543bd",
   "metadata": {},
   "outputs": [],
   "source": [
    "school_overall_grades =  dfoverall_grades [['school_name', 'score_achievement', 'score_growth', 'score_absenteeism', 'score_grad']]"
   ]
  },
  {
   "cell_type": "code",
   "execution_count": 14,
   "id": "96283915",
   "metadata": {},
   "outputs": [
    {
     "data": {
      "text/html": [
       "<div>\n",
       "<style scoped>\n",
       "    .dataframe tbody tr th:only-of-type {\n",
       "        vertical-align: middle;\n",
       "    }\n",
       "\n",
       "    .dataframe tbody tr th {\n",
       "        vertical-align: top;\n",
       "    }\n",
       "\n",
       "    .dataframe thead th {\n",
       "        text-align: right;\n",
       "    }\n",
       "</style>\n",
       "<table border=\"1\" class=\"dataframe\">\n",
       "  <thead>\n",
       "    <tr style=\"text-align: right;\">\n",
       "      <th></th>\n",
       "      <th>school_name</th>\n",
       "      <th>score_achievement</th>\n",
       "      <th>score_growth</th>\n",
       "      <th>score_absenteeism</th>\n",
       "      <th>score_grad</th>\n",
       "    </tr>\n",
       "  </thead>\n",
       "  <tbody>\n",
       "    <tr>\n",
       "      <th>0</th>\n",
       "      <td>Anderson County High School</td>\n",
       "      <td>1.6</td>\n",
       "      <td>3.1</td>\n",
       "      <td>1.4</td>\n",
       "      <td>3.2</td>\n",
       "    </tr>\n",
       "    <tr>\n",
       "      <th>1</th>\n",
       "      <td>Andersonville Elementary</td>\n",
       "      <td>2.2</td>\n",
       "      <td>3.6</td>\n",
       "      <td>2.4</td>\n",
       "      <td>NaN</td>\n",
       "    </tr>\n",
       "    <tr>\n",
       "      <th>2</th>\n",
       "      <td>Briceville Elementary</td>\n",
       "      <td>3.0</td>\n",
       "      <td>3.8</td>\n",
       "      <td>0.0</td>\n",
       "      <td>NaN</td>\n",
       "    </tr>\n",
       "    <tr>\n",
       "      <th>3</th>\n",
       "      <td>Claxton Elementary</td>\n",
       "      <td>3.2</td>\n",
       "      <td>3.6</td>\n",
       "      <td>0.0</td>\n",
       "      <td>NaN</td>\n",
       "    </tr>\n",
       "    <tr>\n",
       "      <th>4</th>\n",
       "      <td>Clinton Middle School</td>\n",
       "      <td>2.0</td>\n",
       "      <td>0.1</td>\n",
       "      <td>1.1</td>\n",
       "      <td>NaN</td>\n",
       "    </tr>\n",
       "  </tbody>\n",
       "</table>\n",
       "</div>"
      ],
      "text/plain": [
       "                   school_name  score_achievement  score_growth  \\\n",
       "0  Anderson County High School                1.6           3.1   \n",
       "1     Andersonville Elementary                2.2           3.6   \n",
       "2        Briceville Elementary                3.0           3.8   \n",
       "3           Claxton Elementary                3.2           3.6   \n",
       "4        Clinton Middle School                2.0           0.1   \n",
       "\n",
       "   score_absenteeism  score_grad  \n",
       "0                1.4         3.2  \n",
       "1                2.4         NaN  \n",
       "2                0.0         NaN  \n",
       "3                0.0         NaN  \n",
       "4                1.1         NaN  "
      ]
     },
     "execution_count": 14,
     "metadata": {},
     "output_type": "execute_result"
    }
   ],
   "source": [
    "school_overall_grades.head()"
   ]
  },
  {
   "cell_type": "code",
   "execution_count": null,
   "id": "c7bba766",
   "metadata": {},
   "outputs": [],
   "source": [
    "#avg_grades_district= school_overall_grades.groupby('district_name').mean().reset_index()"
   ]
  },
  {
   "cell_type": "code",
   "execution_count": null,
   "id": "0386b665",
   "metadata": {},
   "outputs": [],
   "source": [
    "#avg_grades_district.info()"
   ]
  },
  {
   "cell_type": "code",
   "execution_count": 15,
   "id": "910a9be4",
   "metadata": {},
   "outputs": [],
   "source": [
    "rc_1 = dfteacher_retention.merge(school_overall_grades, \n",
    "                        on = 'school_name')"
   ]
  },
  {
   "cell_type": "code",
   "execution_count": 16,
   "id": "f3703e14",
   "metadata": {},
   "outputs": [
    {
     "data": {
      "text/html": [
       "<div>\n",
       "<style scoped>\n",
       "    .dataframe tbody tr th:only-of-type {\n",
       "        vertical-align: middle;\n",
       "    }\n",
       "\n",
       "    .dataframe tbody tr th {\n",
       "        vertical-align: top;\n",
       "    }\n",
       "\n",
       "    .dataframe thead th {\n",
       "        text-align: right;\n",
       "    }\n",
       "</style>\n",
       "<table border=\"1\" class=\"dataframe\">\n",
       "  <thead>\n",
       "    <tr style=\"text-align: right;\">\n",
       "      <th></th>\n",
       "      <th>district_name</th>\n",
       "      <th>school_name</th>\n",
       "      <th>percent_retained</th>\n",
       "      <th>score_achievement</th>\n",
       "      <th>score_growth</th>\n",
       "      <th>score_absenteeism</th>\n",
       "      <th>score_grad</th>\n",
       "    </tr>\n",
       "  </thead>\n",
       "  <tbody>\n",
       "    <tr>\n",
       "      <th>0</th>\n",
       "      <td>Anderson County Schools</td>\n",
       "      <td>Anderson County High School</td>\n",
       "      <td>95.1</td>\n",
       "      <td>1.6</td>\n",
       "      <td>3.1</td>\n",
       "      <td>1.4</td>\n",
       "      <td>3.2</td>\n",
       "    </tr>\n",
       "    <tr>\n",
       "      <th>1</th>\n",
       "      <td>Anderson County Schools</td>\n",
       "      <td>Andersonville Elementary</td>\n",
       "      <td>92.0</td>\n",
       "      <td>2.2</td>\n",
       "      <td>3.6</td>\n",
       "      <td>2.4</td>\n",
       "      <td>NaN</td>\n",
       "    </tr>\n",
       "    <tr>\n",
       "      <th>2</th>\n",
       "      <td>Anderson County Schools</td>\n",
       "      <td>Briceville Elementary</td>\n",
       "      <td>100.0</td>\n",
       "      <td>3.0</td>\n",
       "      <td>3.8</td>\n",
       "      <td>0.0</td>\n",
       "      <td>NaN</td>\n",
       "    </tr>\n",
       "    <tr>\n",
       "      <th>3</th>\n",
       "      <td>Anderson County Schools</td>\n",
       "      <td>Claxton Elementary</td>\n",
       "      <td>81.8</td>\n",
       "      <td>3.2</td>\n",
       "      <td>3.6</td>\n",
       "      <td>0.0</td>\n",
       "      <td>NaN</td>\n",
       "    </tr>\n",
       "    <tr>\n",
       "      <th>4</th>\n",
       "      <td>Anderson County Schools</td>\n",
       "      <td>Clinton Middle School</td>\n",
       "      <td>77.1</td>\n",
       "      <td>2.0</td>\n",
       "      <td>0.1</td>\n",
       "      <td>1.1</td>\n",
       "      <td>NaN</td>\n",
       "    </tr>\n",
       "  </tbody>\n",
       "</table>\n",
       "</div>"
      ],
      "text/plain": [
       "             district_name                  school_name  percent_retained  \\\n",
       "0  Anderson County Schools  Anderson County High School              95.1   \n",
       "1  Anderson County Schools     Andersonville Elementary              92.0   \n",
       "2  Anderson County Schools        Briceville Elementary             100.0   \n",
       "3  Anderson County Schools           Claxton Elementary              81.8   \n",
       "4  Anderson County Schools        Clinton Middle School              77.1   \n",
       "\n",
       "   score_achievement  score_growth  score_absenteeism  score_grad  \n",
       "0                1.6           3.1                1.4         3.2  \n",
       "1                2.2           3.6                2.4         NaN  \n",
       "2                3.0           3.8                0.0         NaN  \n",
       "3                3.2           3.6                0.0         NaN  \n",
       "4                2.0           0.1                1.1         NaN  "
      ]
     },
     "execution_count": 16,
     "metadata": {},
     "output_type": "execute_result"
    }
   ],
   "source": [
    "rc_1.head()\n"
   ]
  },
  {
   "cell_type": "code",
   "execution_count": 17,
   "id": "b0da2631",
   "metadata": {},
   "outputs": [
    {
     "data": {
      "text/plain": [
       "<AxesSubplot:xlabel='percent_retained', ylabel='score_achievement'>"
      ]
     },
     "execution_count": 17,
     "metadata": {},
     "output_type": "execute_result"
    },
    {
     "data": {
      "image/png": "[encoded data removed]",
      "text/plain": [
       "<Figure size 432x288 with 1 Axes>"
      ]
     },
     "metadata": {
      "needs_background": "light"
     },
     "output_type": "display_data"
    }
   ],
   "source": [
    "rc_1.plot.scatter(x = 'percent_retained', y = 'score_achievement' )"
   ]
  },
  {
   "cell_type": "code",
   "execution_count": 18,
   "id": "7ecf198e",
   "metadata": {},
   "outputs": [
    {
     "data": {
      "text/plain": [
       "0.14154125911351584"
      ]
     },
     "execution_count": 18,
     "metadata": {},
     "output_type": "execute_result"
    }
   ],
   "source": [
    "rc_1['percent_retained'].corr(rc_1['score_achievement'])"
   ]
  },
  {
   "cell_type": "code",
   "execution_count": 19,
   "id": "b0fbe23e",
   "metadata": {},
   "outputs": [
    {
     "data": {
      "text/html": [
       "<div>\n",
       "<style scoped>\n",
       "    .dataframe tbody tr th:only-of-type {\n",
       "        vertical-align: middle;\n",
       "    }\n",
       "\n",
       "    .dataframe tbody tr th {\n",
       "        vertical-align: top;\n",
       "    }\n",
       "\n",
       "    .dataframe thead th {\n",
       "        text-align: right;\n",
       "    }\n",
       "</style>\n",
       "<table border=\"1\" class=\"dataframe\">\n",
       "  <thead>\n",
       "    <tr style=\"text-align: right;\">\n",
       "      <th></th>\n",
       "      <th>percent_retained</th>\n",
       "      <th>score_achievement</th>\n",
       "      <th>score_growth</th>\n",
       "      <th>score_absenteeism</th>\n",
       "      <th>score_grad</th>\n",
       "    </tr>\n",
       "  </thead>\n",
       "  <tbody>\n",
       "    <tr>\n",
       "      <th>percent_retained</th>\n",
       "      <td>1.000000</td>\n",
       "      <td>0.141541</td>\n",
       "      <td>0.077067</td>\n",
       "      <td>0.062987</td>\n",
       "      <td>0.262640</td>\n",
       "    </tr>\n",
       "    <tr>\n",
       "      <th>score_achievement</th>\n",
       "      <td>0.141541</td>\n",
       "      <td>1.000000</td>\n",
       "      <td>0.386942</td>\n",
       "      <td>0.295146</td>\n",
       "      <td>0.217044</td>\n",
       "    </tr>\n",
       "    <tr>\n",
       "      <th>score_growth</th>\n",
       "      <td>0.077067</td>\n",
       "      <td>0.386942</td>\n",
       "      <td>1.000000</td>\n",
       "      <td>0.131364</td>\n",
       "      <td>0.090798</td>\n",
       "    </tr>\n",
       "    <tr>\n",
       "      <th>score_absenteeism</th>\n",
       "      <td>0.062987</td>\n",
       "      <td>0.295146</td>\n",
       "      <td>0.131364</td>\n",
       "      <td>1.000000</td>\n",
       "      <td>0.229968</td>\n",
       "    </tr>\n",
       "    <tr>\n",
       "      <th>score_grad</th>\n",
       "      <td>0.262640</td>\n",
       "      <td>0.217044</td>\n",
       "      <td>0.090798</td>\n",
       "      <td>0.229968</td>\n",
       "      <td>1.000000</td>\n",
       "    </tr>\n",
       "  </tbody>\n",
       "</table>\n",
       "</div>"
      ],
      "text/plain": [
       "                   percent_retained  score_achievement  score_growth  \\\n",
       "percent_retained           1.000000           0.141541      0.077067   \n",
       "score_achievement          0.141541           1.000000      0.386942   \n",
       "score_growth               0.077067           0.386942      1.000000   \n",
       "score_absenteeism          0.062987           0.295146      0.131364   \n",
       "score_grad                 0.262640           0.217044      0.090798   \n",
       "\n",
       "                   score_absenteeism  score_grad  \n",
       "percent_retained            0.062987    0.262640  \n",
       "score_achievement           0.295146    0.217044  \n",
       "score_growth                0.131364    0.090798  \n",
       "score_absenteeism           1.000000    0.229968  \n",
       "score_grad                  0.229968    1.000000  "
      ]
     },
     "execution_count": 19,
     "metadata": {},
     "output_type": "execute_result"
    }
   ],
   "source": [
    "rc_1.corr()"
   ]
  },
  {
   "cell_type": "code",
   "execution_count": null,
   "id": "a0e3d966",
   "metadata": {},
   "outputs": [],
   "source": []
  }
 ],
 "metadata": {
  "kernelspec": {
   "display_name": "Python 3",
   "language": "python",
   "name": "python3"
  },
  "language_info": {
   "codemirror_mode": {
    "name": "ipython",
    "version": 3
   },
   "file_extension": ".py",
   "mimetype": "text/x-python",
   "name": "python",
   "nbconvert_exporter": "python",
   "pygments_lexer": "ipython3",
   "version": "3.8.8"
  }
 },
 "nbformat": 4,
 "nbformat_minor": 5
}
