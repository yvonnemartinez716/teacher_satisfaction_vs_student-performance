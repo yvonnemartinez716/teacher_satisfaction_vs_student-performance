{
 "cells": [
  {
   "cell_type": "code",
   "execution_count": 1,
   "id": "5f203843",
   "metadata": {},
   "outputs": [],
   "source": [
    "import pandas as pd\n",
    "import numpy as np\n",
    "import seaborn as sns\n",
    "import matplotlib.pyplot as plt\n",
    "%matplotlib inline"
   ]
  },
  {
   "cell_type": "code",
   "execution_count": 2,
   "id": "e3ca0e65",
   "metadata": {},
   "outputs": [],
   "source": [
    "pd.options.display.max_columns = 100"
   ]
  },
  {
   "cell_type": "code",
   "execution_count": 3,
   "id": "3f5481a0",
   "metadata": {},
   "outputs": [
    {
     "data": {
      "text/plain": [
       "['READ ME_Instructions',\n",
       " 'ACT',\n",
       " 'achievement',\n",
       " 'discipline',\n",
       " 'chronic_absenteeism',\n",
       " 'CTE',\n",
       " 'dropout',\n",
       " 'ELPA',\n",
       " 'enrollment',\n",
       " 'finance',\n",
       " 'grad_rate',\n",
       " 'growth',\n",
       " 'growth_subjects',\n",
       " 'indicator_level_grades',\n",
       " 'long_term_ell',\n",
       " 'overall_grades',\n",
       " 'postsec_enrollment',\n",
       " 'ready_grad',\n",
       " 'staffing',\n",
       " 'success_rate',\n",
       " 'teacher_retention',\n",
       " 'district_info',\n",
       " 'school_info']"
      ]
     },
     "execution_count": 3,
     "metadata": {},
     "output_type": "execute_result"
    }
   ],
   "source": [
    "path = '../Data/2018_rc_data.xlsx'\n",
    "xl = pd.ExcelFile(path)\n",
    "sheet_names = xl.sheet_names\n",
    "sheet_names"
   ]
  },
  {
   "cell_type": "code",
   "execution_count": 4,
   "id": "360e8a5e",
   "metadata": {},
   "outputs": [],
   "source": [
    "for sheetname in sheet_names:\n",
    "    if sheetname != 'READ ME_Instructions':\n",
    "        vars()['df' + sheetname] = pd.read_excel(path, sheet_name= sheetname)"
   ]
  },
  {
   "cell_type": "code",
   "execution_count": 5,
   "id": "81e9015d",
   "metadata": {},
   "outputs": [],
   "source": [
    "dfteacher_retention['percent_retained'] = dfteacher_retention['percent_retained'].replace('\\*+', np.nan, regex=True)"
   ]
  },
  {
   "cell_type": "code",
   "execution_count": 6,
   "id": "16886e82",
   "metadata": {},
   "outputs": [],
   "source": [
    "dfteacher_retention['percent_retained'] = dfteacher_retention['percent_retained'].astype(float)"
   ]
  },
  {
   "cell_type": "code",
   "execution_count": 7,
   "id": "db9fe13b",
   "metadata": {},
   "outputs": [],
   "source": [
    "by_district_teach_ret=dfteacher_retention[dfteacher_retention['school_name'].isnull()&dfteacher_retention['district_name'].notnull()]"
   ]
  },
  {
   "cell_type": "code",
   "execution_count": 17,
   "id": "2801b03c",
   "metadata": {},
   "outputs": [],
   "source": [
    "by_district_teach_ret=by_district_teach_ret[['district_name','percent_retained']]"
   ]
  },
  {
   "cell_type": "code",
   "execution_count": 18,
   "id": "59404729",
   "metadata": {},
   "outputs": [],
   "source": [
    "school_overall_grades =  dfoverall_grades [['district_name','school_name', 'score_achievement', 'score_growth', 'score_absenteeism', 'score_grad']]"
   ]
  },
  {
   "cell_type": "code",
   "execution_count": 19,
   "id": "f2755cf1",
   "metadata": {},
   "outputs": [
    {
     "data": {
      "text/html": [
       "<div>\n",
       "<style scoped>\n",
       "    .dataframe tbody tr th:only-of-type {\n",
       "        vertical-align: middle;\n",
       "    }\n",
       "\n",
       "    .dataframe tbody tr th {\n",
       "        vertical-align: top;\n",
       "    }\n",
       "\n",
       "    .dataframe thead th {\n",
       "        text-align: right;\n",
       "    }\n",
       "</style>\n",
       "<table border=\"1\" class=\"dataframe\">\n",
       "  <thead>\n",
       "    <tr style=\"text-align: right;\">\n",
       "      <th></th>\n",
       "      <th>district_name</th>\n",
       "      <th>school_name</th>\n",
       "      <th>score_achievement</th>\n",
       "      <th>score_growth</th>\n",
       "      <th>score_absenteeism</th>\n",
       "      <th>score_grad</th>\n",
       "    </tr>\n",
       "  </thead>\n",
       "  <tbody>\n",
       "    <tr>\n",
       "      <th>0</th>\n",
       "      <td>Anderson County Schools</td>\n",
       "      <td>Anderson County High School</td>\n",
       "      <td>1.6</td>\n",
       "      <td>3.1</td>\n",
       "      <td>1.4</td>\n",
       "      <td>3.2</td>\n",
       "    </tr>\n",
       "    <tr>\n",
       "      <th>1</th>\n",
       "      <td>Anderson County Schools</td>\n",
       "      <td>Andersonville Elementary</td>\n",
       "      <td>2.2</td>\n",
       "      <td>3.6</td>\n",
       "      <td>2.4</td>\n",
       "      <td>NaN</td>\n",
       "    </tr>\n",
       "    <tr>\n",
       "      <th>2</th>\n",
       "      <td>Anderson County Schools</td>\n",
       "      <td>Briceville Elementary</td>\n",
       "      <td>3.0</td>\n",
       "      <td>3.8</td>\n",
       "      <td>0.0</td>\n",
       "      <td>NaN</td>\n",
       "    </tr>\n",
       "    <tr>\n",
       "      <th>3</th>\n",
       "      <td>Anderson County Schools</td>\n",
       "      <td>Claxton Elementary</td>\n",
       "      <td>3.2</td>\n",
       "      <td>3.6</td>\n",
       "      <td>0.0</td>\n",
       "      <td>NaN</td>\n",
       "    </tr>\n",
       "    <tr>\n",
       "      <th>4</th>\n",
       "      <td>Anderson County Schools</td>\n",
       "      <td>Clinton Middle School</td>\n",
       "      <td>2.0</td>\n",
       "      <td>0.1</td>\n",
       "      <td>1.1</td>\n",
       "      <td>NaN</td>\n",
       "    </tr>\n",
       "  </tbody>\n",
       "</table>\n",
       "</div>"
      ],
      "text/plain": [
       "             district_name                  school_name  score_achievement  \\\n",
       "0  Anderson County Schools  Anderson County High School                1.6   \n",
       "1  Anderson County Schools     Andersonville Elementary                2.2   \n",
       "2  Anderson County Schools        Briceville Elementary                3.0   \n",
       "3  Anderson County Schools           Claxton Elementary                3.2   \n",
       "4  Anderson County Schools        Clinton Middle School                2.0   \n",
       "\n",
       "   score_growth  score_absenteeism  score_grad  \n",
       "0           3.1                1.4         3.2  \n",
       "1           3.6                2.4         NaN  \n",
       "2           3.8                0.0         NaN  \n",
       "3           3.6                0.0         NaN  \n",
       "4           0.1                1.1         NaN  "
      ]
     },
     "execution_count": 19,
     "metadata": {},
     "output_type": "execute_result"
    }
   ],
   "source": [
    "school_overall_grades.head()"
   ]
  },
  {
   "cell_type": "code",
   "execution_count": 20,
   "id": "1eedc460",
   "metadata": {},
   "outputs": [],
   "source": [
    "avg_grades_district= school_overall_grades.groupby('district_name').mean().reset_index()"
   ]
  },
  {
   "cell_type": "code",
   "execution_count": 21,
   "id": "e24c4790",
   "metadata": {},
   "outputs": [
    {
     "name": "stdout",
     "output_type": "stream",
     "text": [
      "<class 'pandas.core.frame.DataFrame'>\n",
      "RangeIndex: 146 entries, 0 to 145\n",
      "Data columns (total 5 columns):\n",
      " #   Column             Non-Null Count  Dtype  \n",
      "---  ------             --------------  -----  \n",
      " 0   district_name      146 non-null    object \n",
      " 1   score_achievement  142 non-null    float64\n",
      " 2   score_growth       142 non-null    float64\n",
      " 3   score_absenteeism  142 non-null    float64\n",
      " 4   score_grad         123 non-null    float64\n",
      "dtypes: float64(4), object(1)\n",
      "memory usage: 5.8+ KB\n"
     ]
    }
   ],
   "source": [
    "avg_grades_district.info()"
   ]
  },
  {
   "cell_type": "code",
   "execution_count": 22,
   "id": "4370ba33",
   "metadata": {},
   "outputs": [],
   "source": [
    "rc_1 = by_district_teach_ret.merge(avg_grades_district, \n",
    "                        on = 'district_name')"
   ]
  },
  {
   "cell_type": "code",
   "execution_count": 23,
   "id": "edf74488",
   "metadata": {},
   "outputs": [
    {
     "data": {
      "text/html": [
       "<div>\n",
       "<style scoped>\n",
       "    .dataframe tbody tr th:only-of-type {\n",
       "        vertical-align: middle;\n",
       "    }\n",
       "\n",
       "    .dataframe tbody tr th {\n",
       "        vertical-align: top;\n",
       "    }\n",
       "\n",
       "    .dataframe thead th {\n",
       "        text-align: right;\n",
       "    }\n",
       "</style>\n",
       "<table border=\"1\" class=\"dataframe\">\n",
       "  <thead>\n",
       "    <tr style=\"text-align: right;\">\n",
       "      <th></th>\n",
       "      <th>district_name</th>\n",
       "      <th>percent_retained</th>\n",
       "      <th>score_achievement</th>\n",
       "      <th>score_growth</th>\n",
       "      <th>score_absenteeism</th>\n",
       "      <th>score_grad</th>\n",
       "    </tr>\n",
       "  </thead>\n",
       "  <tbody>\n",
       "    <tr>\n",
       "      <th>0</th>\n",
       "      <td>Anderson County Schools</td>\n",
       "      <td>89.5</td>\n",
       "      <td>2.066667</td>\n",
       "      <td>2.693333</td>\n",
       "      <td>1.346667</td>\n",
       "      <td>2.900000</td>\n",
       "    </tr>\n",
       "    <tr>\n",
       "      <th>1</th>\n",
       "      <td>Clinton City School District</td>\n",
       "      <td>82.6</td>\n",
       "      <td>2.600000</td>\n",
       "      <td>3.133333</td>\n",
       "      <td>2.500000</td>\n",
       "      <td>NaN</td>\n",
       "    </tr>\n",
       "    <tr>\n",
       "      <th>2</th>\n",
       "      <td>Oak Ridge City Schools</td>\n",
       "      <td>86.0</td>\n",
       "      <td>2.000000</td>\n",
       "      <td>1.900000</td>\n",
       "      <td>2.457143</td>\n",
       "      <td>3.000000</td>\n",
       "    </tr>\n",
       "    <tr>\n",
       "      <th>3</th>\n",
       "      <td>Bedford County Schools</td>\n",
       "      <td>88.2</td>\n",
       "      <td>1.550000</td>\n",
       "      <td>1.100000</td>\n",
       "      <td>2.464286</td>\n",
       "      <td>3.333333</td>\n",
       "    </tr>\n",
       "    <tr>\n",
       "      <th>4</th>\n",
       "      <td>Benton School System</td>\n",
       "      <td>94.3</td>\n",
       "      <td>2.080000</td>\n",
       "      <td>3.000000</td>\n",
       "      <td>3.000000</td>\n",
       "      <td>4.000000</td>\n",
       "    </tr>\n",
       "  </tbody>\n",
       "</table>\n",
       "</div>"
      ],
      "text/plain": [
       "                  district_name  percent_retained  score_achievement  \\\n",
       "0       Anderson County Schools              89.5           2.066667   \n",
       "1  Clinton City School District              82.6           2.600000   \n",
       "2        Oak Ridge City Schools              86.0           2.000000   \n",
       "3        Bedford County Schools              88.2           1.550000   \n",
       "4          Benton School System              94.3           2.080000   \n",
       "\n",
       "   score_growth  score_absenteeism  score_grad  \n",
       "0      2.693333           1.346667    2.900000  \n",
       "1      3.133333           2.500000         NaN  \n",
       "2      1.900000           2.457143    3.000000  \n",
       "3      1.100000           2.464286    3.333333  \n",
       "4      3.000000           3.000000    4.000000  "
      ]
     },
     "execution_count": 23,
     "metadata": {},
     "output_type": "execute_result"
    }
   ],
   "source": [
    "rc_1.head()\n"
   ]
  },
  {
   "cell_type": "code",
   "execution_count": 24,
   "id": "03620e7a",
   "metadata": {},
   "outputs": [
    {
     "data": {
      "text/plain": [
       "<AxesSubplot:xlabel='percent_retained', ylabel='score_achievement'>"
      ]
     },
     "execution_count": 24,
     "metadata": {},
     "output_type": "execute_result"
    },
    {
     "data": {
      "image/png": "[encoded data removed]",
      "text/plain": [
       "<Figure size 432x288 with 1 Axes>"
      ]
     },
     "metadata": {
      "needs_background": "light"
     },
     "output_type": "display_data"
    }
   ],
   "source": [
    "rc_1.plot.scatter(x = 'percent_retained', y = 'score_achievement' )"
   ]
  },
  {
   "cell_type": "code",
   "execution_count": 25,
   "id": "020ea202",
   "metadata": {},
   "outputs": [
    {
     "data": {
      "text/plain": [
       "0.1012123090856533"
      ]
     },
     "execution_count": 25,
     "metadata": {},
     "output_type": "execute_result"
    }
   ],
   "source": [
    "rc_1['percent_retained'].corr(rc_1['score_achievement'])"
   ]
  },
  {
   "cell_type": "code",
   "execution_count": 27,
   "id": "3889b317",
   "metadata": {},
   "outputs": [
    {
     "data": {
      "text/html": [
       "<div>\n",
       "<style scoped>\n",
       "    .dataframe tbody tr th:only-of-type {\n",
       "        vertical-align: middle;\n",
       "    }\n",
       "\n",
       "    .dataframe tbody tr th {\n",
       "        vertical-align: top;\n",
       "    }\n",
       "\n",
       "    .dataframe thead th {\n",
       "        text-align: right;\n",
       "    }\n",
       "</style>\n",
       "<table border=\"1\" class=\"dataframe\">\n",
       "  <thead>\n",
       "    <tr style=\"text-align: right;\">\n",
       "      <th></th>\n",
       "      <th>percent_retained</th>\n",
       "      <th>score_achievement</th>\n",
       "      <th>score_growth</th>\n",
       "      <th>score_absenteeism</th>\n",
       "      <th>score_grad</th>\n",
       "    </tr>\n",
       "  </thead>\n",
       "  <tbody>\n",
       "    <tr>\n",
       "      <th>percent_retained</th>\n",
       "      <td>1.000000</td>\n",
       "      <td>0.101212</td>\n",
       "      <td>0.206338</td>\n",
       "      <td>-0.016930</td>\n",
       "      <td>0.026178</td>\n",
       "    </tr>\n",
       "    <tr>\n",
       "      <th>score_achievement</th>\n",
       "      <td>0.101212</td>\n",
       "      <td>1.000000</td>\n",
       "      <td>0.460054</td>\n",
       "      <td>0.269532</td>\n",
       "      <td>0.172328</td>\n",
       "    </tr>\n",
       "    <tr>\n",
       "      <th>score_growth</th>\n",
       "      <td>0.206338</td>\n",
       "      <td>0.460054</td>\n",
       "      <td>1.000000</td>\n",
       "      <td>0.141903</td>\n",
       "      <td>0.186923</td>\n",
       "    </tr>\n",
       "    <tr>\n",
       "      <th>score_absenteeism</th>\n",
       "      <td>-0.016930</td>\n",
       "      <td>0.269532</td>\n",
       "      <td>0.141903</td>\n",
       "      <td>1.000000</td>\n",
       "      <td>0.137950</td>\n",
       "    </tr>\n",
       "    <tr>\n",
       "      <th>score_grad</th>\n",
       "      <td>0.026178</td>\n",
       "      <td>0.172328</td>\n",
       "      <td>0.186923</td>\n",
       "      <td>0.137950</td>\n",
       "      <td>1.000000</td>\n",
       "    </tr>\n",
       "  </tbody>\n",
       "</table>\n",
       "</div>"
      ],
      "text/plain": [
       "                   percent_retained  score_achievement  score_growth  \\\n",
       "percent_retained           1.000000           0.101212      0.206338   \n",
       "score_achievement          0.101212           1.000000      0.460054   \n",
       "score_growth               0.206338           0.460054      1.000000   \n",
       "score_absenteeism         -0.016930           0.269532      0.141903   \n",
       "score_grad                 0.026178           0.172328      0.186923   \n",
       "\n",
       "                   score_absenteeism  score_grad  \n",
       "percent_retained           -0.016930    0.026178  \n",
       "score_achievement           0.269532    0.172328  \n",
       "score_growth                0.141903    0.186923  \n",
       "score_absenteeism           1.000000    0.137950  \n",
       "score_grad                  0.137950    1.000000  "
      ]
     },
     "execution_count": 27,
     "metadata": {},
     "output_type": "execute_result"
    }
   ],
   "source": [
    "rc_1.corr()"
   ]
  },
  {
   "cell_type": "code",
   "execution_count": null,
   "id": "1f025832",
   "metadata": {},
   "outputs": [],
   "source": []
  }
 ],
 "metadata": {
  "kernelspec": {
   "display_name": "Python 3",
   "language": "python",
   "name": "python3"
  },
  "language_info": {
   "codemirror_mode": {
    "name": "ipython",
    "version": 3
   },
   "file_extension": ".py",
   "mimetype": "text/x-python",
   "name": "python",
   "nbconvert_exporter": "python",
   "pygments_lexer": "ipython3",
   "version": "3.8.8"
  }
 },
 "nbformat": 4,
 "nbformat_minor": 5
}
