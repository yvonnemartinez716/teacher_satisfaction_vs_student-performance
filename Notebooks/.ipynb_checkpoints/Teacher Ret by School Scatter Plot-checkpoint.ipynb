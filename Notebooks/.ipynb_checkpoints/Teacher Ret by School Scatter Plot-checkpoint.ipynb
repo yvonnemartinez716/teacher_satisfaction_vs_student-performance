{
 "cells": [
  {
   "cell_type": "code",
   "execution_count": 1,
   "id": "4c92a218",
   "metadata": {},
   "outputs": [],
   "source": [
    "import pandas as pd\n",
    "import numpy as np\n",
    "import seaborn as sns\n",
    "import matplotlib.pyplot as plt\n",
    "%matplotlib inline"
   ]
  },
  {
   "cell_type": "code",
   "execution_count": 2,
   "id": "1788781f",
   "metadata": {},
   "outputs": [],
   "source": [
    "pd.options.display.max_columns = 100"
   ]
  },
  {
   "cell_type": "code",
   "execution_count": 3,
   "id": "8aed9a21",
   "metadata": {},
   "outputs": [
    {
     "data": {
      "text/plain": [
       "['READ ME_Instructions',\n",
       " 'ACT',\n",
       " 'achievement',\n",
       " 'discipline',\n",
       " 'chronic_absenteeism',\n",
       " 'CTE',\n",
       " 'dropout',\n",
       " 'ELPA',\n",
       " 'enrollment',\n",
       " 'finance',\n",
       " 'grad_rate',\n",
       " 'growth',\n",
       " 'growth_subjects',\n",
       " 'indicator_level_grades',\n",
       " 'long_term_ell',\n",
       " 'overall_grades',\n",
       " 'postsec_enrollment',\n",
       " 'ready_grad',\n",
       " 'staffing',\n",
       " 'success_rate',\n",
       " 'teacher_retention',\n",
       " 'district_info',\n",
       " 'school_info']"
      ]
     },
     "execution_count": 3,
     "metadata": {},
     "output_type": "execute_result"
    }
   ],
   "source": [
    "path = '../Data/2018_rc_data.xlsx'\n",
    "xl = pd.ExcelFile(path)\n",
    "sheet_names = xl.sheet_names\n",
    "sheet_names"
   ]
  },
  {
   "cell_type": "code",
   "execution_count": 4,
   "id": "4154619e",
   "metadata": {},
   "outputs": [],
   "source": [
    "for sheetname in sheet_names:\n",
    "    if sheetname != 'READ ME_Instructions':\n",
    "        vars()['df' + sheetname] = pd.read_excel(path, sheet_name= sheetname)"
   ]
  },
  {
   "cell_type": "code",
   "execution_count": 5,
   "id": "bbd4940c",
   "metadata": {},
   "outputs": [],
   "source": [
    "dfteacher_retention['percent_retained'] = dfteacher_retention['percent_retained'].replace('\\*+', np.nan, regex=True)"
   ]
  },
  {
   "cell_type": "code",
   "execution_count": 6,
   "id": "1eecbe0c",
   "metadata": {},
   "outputs": [],
   "source": [
    "dfteacher_retention['percent_retained'] = dfteacher_retention['percent_retained'].astype(float)"
   ]
  },
  {
   "cell_type": "code",
   "execution_count": 8,
   "id": "4a484d2f",
   "metadata": {},
   "outputs": [],
   "source": [
    "dfteacher_retention= dfteacher_retention[['district_name','school_name','percent_retained']]"
   ]
  },
  {
   "cell_type": "code",
   "execution_count": 13,
   "id": "f09543bd",
   "metadata": {},
   "outputs": [],
   "source": [
    "school_overall_grades =  dfoverall_grades [['school_name', 'score_achievement', 'score_growth', 'score_absenteeism', 'score_grad']]"
   ]
  },
  {
   "cell_type": "code",
   "execution_count": 14,
   "id": "96283915",
   "metadata": {},
   "outputs": [
    {
     "data": {
      "text/html": [
       "<div>\n",
       "<style scoped>\n",
       "    .dataframe tbody tr th:only-of-type {\n",
       "        vertical-align: middle;\n",
       "    }\n",
       "\n",
       "    .dataframe tbody tr th {\n",
       "        vertical-align: top;\n",
       "    }\n",
       "\n",
       "    .dataframe thead th {\n",
       "        text-align: right;\n",
       "    }\n",
       "</style>\n",
       "<table border=\"1\" class=\"dataframe\">\n",
       "  <thead>\n",
       "    <tr style=\"text-align: right;\">\n",
       "      <th></th>\n",
       "      <th>school_name</th>\n",
       "      <th>score_achievement</th>\n",
       "      <th>score_growth</th>\n",
       "      <th>score_absenteeism</th>\n",
       "      <th>score_grad</th>\n",
       "    </tr>\n",
       "  </thead>\n",
       "  <tbody>\n",
       "    <tr>\n",
       "      <th>0</th>\n",
       "      <td>Anderson County High School</td>\n",
       "      <td>1.6</td>\n",
       "      <td>3.1</td>\n",
       "      <td>1.4</td>\n",
       "      <td>3.2</td>\n",
       "    </tr>\n",
       "    <tr>\n",
       "      <th>1</th>\n",
       "      <td>Andersonville Elementary</td>\n",
       "      <td>2.2</td>\n",
       "      <td>3.6</td>\n",
       "      <td>2.4</td>\n",
       "      <td>NaN</td>\n",
       "    </tr>\n",
       "    <tr>\n",
       "      <th>2</th>\n",
       "      <td>Briceville Elementary</td>\n",
       "      <td>3.0</td>\n",
       "      <td>3.8</td>\n",
       "      <td>0.0</td>\n",
       "      <td>NaN</td>\n",
       "    </tr>\n",
       "    <tr>\n",
       "      <th>3</th>\n",
       "      <td>Claxton Elementary</td>\n",
       "      <td>3.2</td>\n",
       "      <td>3.6</td>\n",
       "      <td>0.0</td>\n",
       "      <td>NaN</td>\n",
       "    </tr>\n",
       "    <tr>\n",
       "      <th>4</th>\n",
       "      <td>Clinton Middle School</td>\n",
       "      <td>2.0</td>\n",
       "      <td>0.1</td>\n",
       "      <td>1.1</td>\n",
       "      <td>NaN</td>\n",
       "    </tr>\n",
       "  </tbody>\n",
       "</table>\n",
       "</div>"
      ],
      "text/plain": [
       "                   school_name  score_achievement  score_growth  \\\n",
       "0  Anderson County High School                1.6           3.1   \n",
       "1     Andersonville Elementary                2.2           3.6   \n",
       "2        Briceville Elementary                3.0           3.8   \n",
       "3           Claxton Elementary                3.2           3.6   \n",
       "4        Clinton Middle School                2.0           0.1   \n",
       "\n",
       "   score_absenteeism  score_grad  \n",
       "0                1.4         3.2  \n",
       "1                2.4         NaN  \n",
       "2                0.0         NaN  \n",
       "3                0.0         NaN  \n",
       "4                1.1         NaN  "
      ]
     },
     "execution_count": 14,
     "metadata": {},
     "output_type": "execute_result"
    }
   ],
   "source": [
    "school_overall_grades.head()"
   ]
  },
  {
   "cell_type": "code",
   "execution_count": null,
   "id": "c7bba766",
   "metadata": {},
   "outputs": [],
   "source": [
    "#avg_grades_district= school_overall_grades.groupby('district_name').mean().reset_index()"
   ]
  },
  {
   "cell_type": "code",
   "execution_count": null,
   "id": "0386b665",
   "metadata": {},
   "outputs": [],
   "source": [
    "#avg_grades_district.info()"
   ]
  },
  {
   "cell_type": "code",
   "execution_count": 15,
   "id": "910a9be4",
   "metadata": {},
   "outputs": [],
   "source": [
    "rc_1 = dfteacher_retention.merge(school_overall_grades, \n",
    "                        on = 'school_name')"
   ]
  },
  {
   "cell_type": "code",
   "execution_count": 16,
   "id": "f3703e14",
   "metadata": {},
   "outputs": [
    {
     "data": {
      "text/html": [
       "<div>\n",
       "<style scoped>\n",
       "    .dataframe tbody tr th:only-of-type {\n",
       "        vertical-align: middle;\n",
       "    }\n",
       "\n",
       "    .dataframe tbody tr th {\n",
       "        vertical-align: top;\n",
       "    }\n",
       "\n",
       "    .dataframe thead th {\n",
       "        text-align: right;\n",
       "    }\n",
       "</style>\n",
       "<table border=\"1\" class=\"dataframe\">\n",
       "  <thead>\n",
       "    <tr style=\"text-align: right;\">\n",
       "      <th></th>\n",
       "      <th>district_name</th>\n",
       "      <th>school_name</th>\n",
       "      <th>percent_retained</th>\n",
       "      <th>score_achievement</th>\n",
       "      <th>score_growth</th>\n",
       "      <th>score_absenteeism</th>\n",
       "      <th>score_grad</th>\n",
       "    </tr>\n",
       "  </thead>\n",
       "  <tbody>\n",
       "    <tr>\n",
       "      <th>0</th>\n",
       "      <td>Anderson County Schools</td>\n",
       "      <td>Anderson County High School</td>\n",
       "      <td>95.1</td>\n",
       "      <td>1.6</td>\n",
       "      <td>3.1</td>\n",
       "      <td>1.4</td>\n",
       "      <td>3.2</td>\n",
       "    </tr>\n",
       "    <tr>\n",
       "      <th>1</th>\n",
       "      <td>Anderson County Schools</td>\n",
       "      <td>Andersonville Elementary</td>\n",
       "      <td>92.0</td>\n",
       "      <td>2.2</td>\n",
       "      <td>3.6</td>\n",
       "      <td>2.4</td>\n",
       "      <td>NaN</td>\n",
       "    </tr>\n",
       "    <tr>\n",
       "      <th>2</th>\n",
       "      <td>Anderson County Schools</td>\n",
       "      <td>Briceville Elementary</td>\n",
       "      <td>100.0</td>\n",
       "      <td>3.0</td>\n",
       "      <td>3.8</td>\n",
       "      <td>0.0</td>\n",
       "      <td>NaN</td>\n",
       "    </tr>\n",
       "    <tr>\n",
       "      <th>3</th>\n",
       "      <td>Anderson County Schools</td>\n",
       "      <td>Claxton Elementary</td>\n",
       "      <td>81.8</td>\n",
       "      <td>3.2</td>\n",
       "      <td>3.6</td>\n",
       "      <td>0.0</td>\n",
       "      <td>NaN</td>\n",
       "    </tr>\n",
       "    <tr>\n",
       "      <th>4</th>\n",
       "      <td>Anderson County Schools</td>\n",
       "      <td>Clinton Middle School</td>\n",
       "      <td>77.1</td>\n",
       "      <td>2.0</td>\n",
       "      <td>0.1</td>\n",
       "      <td>1.1</td>\n",
       "      <td>NaN</td>\n",
       "    </tr>\n",
       "  </tbody>\n",
       "</table>\n",
       "</div>"
      ],
      "text/plain": [
       "             district_name                  school_name  percent_retained  \\\n",
       "0  Anderson County Schools  Anderson County High School              95.1   \n",
       "1  Anderson County Schools     Andersonville Elementary              92.0   \n",
       "2  Anderson County Schools        Briceville Elementary             100.0   \n",
       "3  Anderson County Schools           Claxton Elementary              81.8   \n",
       "4  Anderson County Schools        Clinton Middle School              77.1   \n",
       "\n",
       "   score_achievement  score_growth  score_absenteeism  score_grad  \n",
       "0                1.6           3.1                1.4         3.2  \n",
       "1                2.2           3.6                2.4         NaN  \n",
       "2                3.0           3.8                0.0         NaN  \n",
       "3                3.2           3.6                0.0         NaN  \n",
       "4                2.0           0.1                1.1         NaN  "
      ]
     },
     "execution_count": 16,
     "metadata": {},
     "output_type": "execute_result"
    }
   ],
   "source": [
    "rc_1.head()\n"
   ]
  },
  {
   "cell_type": "code",
   "execution_count": 25,
   "id": "b0da2631",
   "metadata": {},
   "outputs": [
    {
     "data": {
      "text/plain": [
       "<AxesSubplot:xlabel='percent_retained', ylabel='score_grad'>"
      ]
     },
     "execution_count": 25,
     "metadata": {},
     "output_type": "execute_result"
    },
    {
     "data": {
      "image/png": "[encoded data removed]",
      "text/plain": [
       "<Figure size 432x288 with 1 Axes>"
      ]
     },
     "metadata": {
      "needs_background": "light"
     },
     "output_type": "display_data"
    }
   ],
   "source": [
    "rc_1.plot.scatter(x = 'percent_retained', y = 'score_grad', c='darkblue',alpha=0.5)"
   ]
  },
  {
   "cell_type": "code",
   "execution_count": 18,
   "id": "7ecf198e",
   "metadata": {},
   "outputs": [
    {
     "data": {
      "text/plain": [
       "0.14154125911351584"
      ]
     },
     "execution_count": 18,
     "metadata": {},
     "output_type": "execute_result"
    }
   ],
   "source": [
    "rc_1['percent_retained'].corr(rc_1['score_achievement'])"
   ]
  },
  {
   "cell_type": "code",
   "execution_count": 21,
   "id": "b0fbe23e",
   "metadata": {},
   "outputs": [
    {
     "data": {
      "text/html": [
       "<style  type=\"text/css\" >\n",
       "#T_1429b_row0_col0,#T_1429b_row1_col1,#T_1429b_row2_col2,#T_1429b_row3_col3,#T_1429b_row4_col4{\n",
       "            background-color:  #08306b;\n",
       "            color:  #f1f1f1;\n",
       "        }#T_1429b_row0_col1,#T_1429b_row0_col2,#T_1429b_row0_col3,#T_1429b_row2_col4,#T_1429b_row3_col0{\n",
       "            background-color:  #f7fbff;\n",
       "            color:  #000000;\n",
       "        }#T_1429b_row0_col4{\n",
       "            background-color:  #d2e3f3;\n",
       "            color:  #000000;\n",
       "        }#T_1429b_row1_col0{\n",
       "            background-color:  #e7f0fa;\n",
       "            color:  #000000;\n",
       "        }#T_1429b_row1_col2{\n",
       "            background-color:  #abd0e6;\n",
       "            color:  #000000;\n",
       "        }#T_1429b_row1_col3{\n",
       "            background-color:  #c7dbef;\n",
       "            color:  #000000;\n",
       "        }#T_1429b_row1_col4{\n",
       "            background-color:  #dce9f6;\n",
       "            color:  #000000;\n",
       "        }#T_1429b_row2_col0,#T_1429b_row4_col2{\n",
       "            background-color:  #f5f9fe;\n",
       "            color:  #000000;\n",
       "        }#T_1429b_row2_col1{\n",
       "            background-color:  #bad6eb;\n",
       "            color:  #000000;\n",
       "        }#T_1429b_row2_col3{\n",
       "            background-color:  #e9f2fa;\n",
       "            color:  #000000;\n",
       "        }#T_1429b_row3_col1,#T_1429b_row4_col3{\n",
       "            background-color:  #d4e4f4;\n",
       "            color:  #000000;\n",
       "        }#T_1429b_row3_col2{\n",
       "            background-color:  #ebf3fb;\n",
       "            color:  #000000;\n",
       "        }#T_1429b_row3_col4{\n",
       "            background-color:  #d9e7f5;\n",
       "            color:  #000000;\n",
       "        }#T_1429b_row4_col0{\n",
       "            background-color:  #cde0f1;\n",
       "            color:  #000000;\n",
       "        }#T_1429b_row4_col1{\n",
       "            background-color:  #e6f0f9;\n",
       "            color:  #000000;\n",
       "        }</style><table id=\"T_1429b_\" ><thead>    <tr>        <th class=\"blank level0\" ></th>        <th class=\"col_heading level0 col0\" >percent_retained</th>        <th class=\"col_heading level0 col1\" >score_achievement</th>        <th class=\"col_heading level0 col2\" >score_growth</th>        <th class=\"col_heading level0 col3\" >score_absenteeism</th>        <th class=\"col_heading level0 col4\" >score_grad</th>    </tr></thead><tbody>\n",
       "                <tr>\n",
       "                        <th id=\"T_1429b_level0_row0\" class=\"row_heading level0 row0\" >percent_retained</th>\n",
       "                        <td id=\"T_1429b_row0_col0\" class=\"data row0 col0\" >1.000000</td>\n",
       "                        <td id=\"T_1429b_row0_col1\" class=\"data row0 col1\" >0.141541</td>\n",
       "                        <td id=\"T_1429b_row0_col2\" class=\"data row0 col2\" >0.077067</td>\n",
       "                        <td id=\"T_1429b_row0_col3\" class=\"data row0 col3\" >0.062987</td>\n",
       "                        <td id=\"T_1429b_row0_col4\" class=\"data row0 col4\" >0.262640</td>\n",
       "            </tr>\n",
       "            <tr>\n",
       "                        <th id=\"T_1429b_level0_row1\" class=\"row_heading level0 row1\" >score_achievement</th>\n",
       "                        <td id=\"T_1429b_row1_col0\" class=\"data row1 col0\" >0.141541</td>\n",
       "                        <td id=\"T_1429b_row1_col1\" class=\"data row1 col1\" >1.000000</td>\n",
       "                        <td id=\"T_1429b_row1_col2\" class=\"data row1 col2\" >0.386942</td>\n",
       "                        <td id=\"T_1429b_row1_col3\" class=\"data row1 col3\" >0.295146</td>\n",
       "                        <td id=\"T_1429b_row1_col4\" class=\"data row1 col4\" >0.217044</td>\n",
       "            </tr>\n",
       "            <tr>\n",
       "                        <th id=\"T_1429b_level0_row2\" class=\"row_heading level0 row2\" >score_growth</th>\n",
       "                        <td id=\"T_1429b_row2_col0\" class=\"data row2 col0\" >0.077067</td>\n",
       "                        <td id=\"T_1429b_row2_col1\" class=\"data row2 col1\" >0.386942</td>\n",
       "                        <td id=\"T_1429b_row2_col2\" class=\"data row2 col2\" >1.000000</td>\n",
       "                        <td id=\"T_1429b_row2_col3\" class=\"data row2 col3\" >0.131364</td>\n",
       "                        <td id=\"T_1429b_row2_col4\" class=\"data row2 col4\" >0.090798</td>\n",
       "            </tr>\n",
       "            <tr>\n",
       "                        <th id=\"T_1429b_level0_row3\" class=\"row_heading level0 row3\" >score_absenteeism</th>\n",
       "                        <td id=\"T_1429b_row3_col0\" class=\"data row3 col0\" >0.062987</td>\n",
       "                        <td id=\"T_1429b_row3_col1\" class=\"data row3 col1\" >0.295146</td>\n",
       "                        <td id=\"T_1429b_row3_col2\" class=\"data row3 col2\" >0.131364</td>\n",
       "                        <td id=\"T_1429b_row3_col3\" class=\"data row3 col3\" >1.000000</td>\n",
       "                        <td id=\"T_1429b_row3_col4\" class=\"data row3 col4\" >0.229968</td>\n",
       "            </tr>\n",
       "            <tr>\n",
       "                        <th id=\"T_1429b_level0_row4\" class=\"row_heading level0 row4\" >score_grad</th>\n",
       "                        <td id=\"T_1429b_row4_col0\" class=\"data row4 col0\" >0.262640</td>\n",
       "                        <td id=\"T_1429b_row4_col1\" class=\"data row4 col1\" >0.217044</td>\n",
       "                        <td id=\"T_1429b_row4_col2\" class=\"data row4 col2\" >0.090798</td>\n",
       "                        <td id=\"T_1429b_row4_col3\" class=\"data row4 col3\" >0.229968</td>\n",
       "                        <td id=\"T_1429b_row4_col4\" class=\"data row4 col4\" >1.000000</td>\n",
       "            </tr>\n",
       "    </tbody></table>"
      ],
      "text/plain": [
       "<pandas.io.formats.style.Styler at 0x215b7788250>"
      ]
     },
     "execution_count": 21,
     "metadata": {},
     "output_type": "execute_result"
    }
   ],
   "source": [
    "rc_1.corr().style.background_gradient(cmap=\"Blues\")"
   ]
  },
  {
   "cell_type": "code",
   "execution_count": null,
   "id": "a0e3d966",
   "metadata": {},
   "outputs": [],
   "source": []
  }
 ],
 "metadata": {
  "kernelspec": {
   "display_name": "Python 3",
   "language": "python",
   "name": "python3"
  },
  "language_info": {
   "codemirror_mode": {
    "name": "ipython",
    "version": 3
   },
   "file_extension": ".py",
   "mimetype": "text/x-python",
   "name": "python",
   "nbconvert_exporter": "python",
   "pygments_lexer": "ipython3",
   "version": "3.8.8"
  }
 },
 "nbformat": 4,
 "nbformat_minor": 5
}
