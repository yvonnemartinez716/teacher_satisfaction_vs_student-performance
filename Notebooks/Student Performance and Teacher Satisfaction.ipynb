{
 "cells": [
  {
   "cell_type": "code",
   "execution_count": 1,
   "id": "3205761f",
   "metadata": {},
   "outputs": [],
   "source": [
    "import pandas as pd\n",
    "import numpy as np"
   ]
  },
  {
   "cell_type": "code",
   "execution_count": 10,
   "id": "2e4f1642",
   "metadata": {},
   "outputs": [
    {
     "data": {
      "text/plain": [
       "['READ ME_Instructions',\n",
       " 'ACT',\n",
       " 'achievement',\n",
       " 'discipline',\n",
       " 'chronic_absenteeism',\n",
       " 'CTE',\n",
       " 'dropout',\n",
       " 'ELPA',\n",
       " 'enrollment',\n",
       " 'finance',\n",
       " 'grad_rate',\n",
       " 'growth',\n",
       " 'growth_subjects',\n",
       " 'indicator_level_grades',\n",
       " 'long_term_ell',\n",
       " 'overall_grades',\n",
       " 'postsec_enrollment',\n",
       " 'ready_grad',\n",
       " 'staffing',\n",
       " 'success_rate',\n",
       " 'teacher_retention',\n",
       " 'district_info',\n",
       " 'school_info']"
      ]
     },
     "execution_count": 10,
     "metadata": {},
     "output_type": "execute_result"
    }
   ],
   "source": [
    "path = '../Data/2018_rc_data.xlsx'\n",
    "xl = pd.ExcelFile(path)\n",
    "sheet_names = xl.sheet_names\n",
    "sheet_names"
   ]
  },
  {
   "cell_type": "code",
   "execution_count": 11,
   "id": "22cf3bec",
   "metadata": {},
   "outputs": [],
   "source": [
    "for sheetname in sheet_names:\n",
    "    if sheetname != 'READ ME_Instructions':\n",
    "        vars()['df' + sheetname] = pd.read_excel(path, sheet_name= sheetname)\n"
   ]
  },
  {
   "cell_type": "code",
   "execution_count": 13,
   "id": "5c84d86b",
   "metadata": {},
   "outputs": [
    {
     "data": {
      "text/html": [
       "<div>\n",
       "<style scoped>\n",
       "    .dataframe tbody tr th:only-of-type {\n",
       "        vertical-align: middle;\n",
       "    }\n",
       "\n",
       "    .dataframe tbody tr th {\n",
       "        vertical-align: top;\n",
       "    }\n",
       "\n",
       "    .dataframe thead th {\n",
       "        text-align: right;\n",
       "    }\n",
       "</style>\n",
       "<table border=\"1\" class=\"dataframe\">\n",
       "  <thead>\n",
       "    <tr style=\"text-align: right;\">\n",
       "      <th></th>\n",
       "      <th>district_number</th>\n",
       "      <th>district_name</th>\n",
       "      <th>school_number</th>\n",
       "      <th>school_name</th>\n",
       "      <th>year</th>\n",
       "      <th>subgroup</th>\n",
       "      <th>tvaas_index</th>\n",
       "      <th>tvaas_index_previous</th>\n",
       "      <th>baseline_year</th>\n",
       "    </tr>\n",
       "  </thead>\n",
       "  <tbody>\n",
       "    <tr>\n",
       "      <th>0</th>\n",
       "      <td>0</td>\n",
       "      <td>State of Tennessee</td>\n",
       "      <td>0</td>\n",
       "      <td>NaN</td>\n",
       "      <td>2018</td>\n",
       "      <td>All Students</td>\n",
       "      <td>NaN</td>\n",
       "      <td>NaN</td>\n",
       "      <td>NaN</td>\n",
       "    </tr>\n",
       "    <tr>\n",
       "      <th>1</th>\n",
       "      <td>10</td>\n",
       "      <td>Anderson County Schools</td>\n",
       "      <td>0</td>\n",
       "      <td>NaN</td>\n",
       "      <td>2018</td>\n",
       "      <td>All Students</td>\n",
       "      <td>3.0</td>\n",
       "      <td>NaN</td>\n",
       "      <td>NaN</td>\n",
       "    </tr>\n",
       "    <tr>\n",
       "      <th>2</th>\n",
       "      <td>10</td>\n",
       "      <td>Anderson County Schools</td>\n",
       "      <td>2</td>\n",
       "      <td>Anderson County High School</td>\n",
       "      <td>2018</td>\n",
       "      <td>All Students</td>\n",
       "      <td>5.0</td>\n",
       "      <td>NaN</td>\n",
       "      <td>NaN</td>\n",
       "    </tr>\n",
       "    <tr>\n",
       "      <th>3</th>\n",
       "      <td>10</td>\n",
       "      <td>Anderson County Schools</td>\n",
       "      <td>2</td>\n",
       "      <td>Anderson County High School</td>\n",
       "      <td>2018</td>\n",
       "      <td>Black/Hispanic/Native</td>\n",
       "      <td>3.0</td>\n",
       "      <td>NaN</td>\n",
       "      <td>NaN</td>\n",
       "    </tr>\n",
       "    <tr>\n",
       "      <th>4</th>\n",
       "      <td>10</td>\n",
       "      <td>Anderson County Schools</td>\n",
       "      <td>2</td>\n",
       "      <td>Anderson County High School</td>\n",
       "      <td>2018</td>\n",
       "      <td>Economically Disadvantaged</td>\n",
       "      <td>3.0</td>\n",
       "      <td>NaN</td>\n",
       "      <td>NaN</td>\n",
       "    </tr>\n",
       "  </tbody>\n",
       "</table>\n",
       "</div>"
      ],
      "text/plain": [
       "   district_number            district_name  school_number  \\\n",
       "0                0       State of Tennessee              0   \n",
       "1               10  Anderson County Schools              0   \n",
       "2               10  Anderson County Schools              2   \n",
       "3               10  Anderson County Schools              2   \n",
       "4               10  Anderson County Schools              2   \n",
       "\n",
       "                   school_name  year                    subgroup  tvaas_index  \\\n",
       "0                          NaN  2018                All Students          NaN   \n",
       "1                          NaN  2018                All Students          3.0   \n",
       "2  Anderson County High School  2018                All Students          5.0   \n",
       "3  Anderson County High School  2018       Black/Hispanic/Native          3.0   \n",
       "4  Anderson County High School  2018  Economically Disadvantaged          3.0   \n",
       "\n",
       "   tvaas_index_previous  baseline_year  \n",
       "0                   NaN            NaN  \n",
       "1                   NaN            NaN  \n",
       "2                   NaN            NaN  \n",
       "3                   NaN            NaN  \n",
       "4                   NaN            NaN  "
      ]
     },
     "execution_count": 13,
     "metadata": {},
     "output_type": "execute_result"
    }
   ],
   "source": [
    "dfgrowth.head()\n"
   ]
  }
 ],
 "metadata": {
  "kernelspec": {
   "display_name": "Python 3",
   "language": "python",
   "name": "python3"
  },
  "language_info": {
   "codemirror_mode": {
    "name": "ipython",
    "version": 3
   },
   "file_extension": ".py",
   "mimetype": "text/x-python",
   "name": "python",
   "nbconvert_exporter": "python",
   "pygments_lexer": "ipython3",
   "version": "3.8.8"
  }
 },
 "nbformat": 4,
 "nbformat_minor": 5
}
